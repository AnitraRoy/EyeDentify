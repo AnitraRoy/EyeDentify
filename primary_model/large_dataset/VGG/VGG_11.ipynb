{
 "cells": [
  {
   "cell_type": "code",
   "execution_count": 1,
   "metadata": {
    "colab": {
     "base_uri": "https://localhost:8080/"
    },
    "id": "9DZkI71dpJG0",
    "outputId": "fe8a1609-a7cf-4feb-fde2-900a3963af3e"
   },
   "outputs": [
    {
     "name": "stdout",
     "output_type": "stream",
     "text": [
      "Number of images in each folder:\n",
      "CNV: 3000\n",
      "DME: 3000\n",
      "DRUSEN: 3000\n",
      "NORMAL: 3000\n"
     ]
    }
   ],
   "source": [
    "import os\n",
    "\n",
    "large_dataset = ['CNV', 'DME', 'DRUSEN', 'NORMAL']\n",
    "large_dataset_dir = '/lambda/nfs/resnet-filesystem/OCT_by_class' # change directory\n",
    "\n",
    "def num_images(dir, folders):\n",
    "    print(f\"Number of images in each folder:\")\n",
    "    for folder in folders:\n",
    "        path = os.path.join(dir, folder)\n",
    "        if os.path.isdir(path):\n",
    "            num_files = len(os.listdir(path))\n",
    "            print(f\"{folder}: {num_files}\")\n",
    "        else:\n",
    "            print(f\"Folder '{folder}' does not exist in the dataset directory.\")\n",
    "\n",
    "num_images(large_dataset_dir, large_dataset)"
   ]
  },
  {
   "cell_type": "code",
   "execution_count": 2,
   "metadata": {},
   "outputs": [],
   "source": [
    "from torchvision import transforms as T\n",
    "from torchvision.datasets import ImageFolder\n",
    "from torch.utils.data import random_split, DataLoader"
   ]
  },
  {
   "cell_type": "code",
   "execution_count": 3,
   "metadata": {
    "colab": {
     "base_uri": "https://localhost:8080/"
    },
    "id": "o61ViYtzpgur",
    "outputId": "7fd68707-38f1-47df-ca89-a45dc64f5995"
   },
   "outputs": [
    {
     "name": "stdout",
     "output_type": "stream",
     "text": [
      "Number of training images: 8400  Percent: 70.00\n",
      "Number of validation images: 1800  Percent: 15.00\n",
      "Number of test images: 1800  Percent: 15.00\n"
     ]
    }
   ],
   "source": [
    "# import to load dataset\n",
    "from torchvision.datasets import ImageFolder\n",
    "from torch.utils.data import random_split, DataLoader\n",
    "import torch\n",
    "\n",
    "transform = T.ToTensor()\n",
    "dataset = ImageFolder(root=large_dataset_dir, transform=transform)\n",
    "\n",
    "# split the data: 70% training, 15% validation, 15% testing\n",
    "total_len = len(dataset)\n",
    "train_len = int(0.7 * total_len)\n",
    "val_len = int(0.15 * total_len)\n",
    "test_len = total_len - train_len - val_len\n",
    "train_data, val_data, test_data = random_split(dataset, [train_len, val_len, test_len], generator=torch.Generator().manual_seed(42))\n",
    "\n",
    "# define dataloader parameters\n",
    "batch_size = 32\n",
    "\n",
    "# prepare data loaders\n",
    "train_loader = DataLoader(train_data, batch_size=batch_size, shuffle=True)\n",
    "val_loader = DataLoader(val_data, batch_size=batch_size, shuffle=False)\n",
    "test_loader = DataLoader(test_data, batch_size=batch_size, shuffle=False)\n",
    "\n",
    "# check the number of training, validation, and test images alongside the percentage of training, validation, and testing (check)\n",
    "print(f\"Number of training images: {len(train_data)}  Percent: {100 * len(train_data)/total_len:.2f}\")\n",
    "print(f\"Number of validation images: {len(val_data)}  Percent: {100 * len(val_data)/total_len:.2f}\")\n",
    "print(f\"Number of test images: {len(test_data)}  Percent: {100 * len(test_data)/total_len:.2f}\")"
   ]
  },
  {
   "cell_type": "code",
   "execution_count": 4,
   "metadata": {
    "id": "8FmQ7bfCrH4g"
   },
   "outputs": [],
   "source": [
    "def get_accuracy(model, data_loader):\n",
    "    correct = 0\n",
    "    total = 0\n",
    "    for imgs, labels in data_loader:\n",
    "\n",
    "        #############################################\n",
    "        #To Enable GPU Usage\n",
    "        if use_cuda and torch.cuda.is_available():\n",
    "          imgs = imgs.cuda()\n",
    "          labels = labels.cuda()\n",
    "        #############################################\n",
    "\n",
    "        output = model(imgs)\n",
    "\n",
    "        # select index with maximum prediction score\n",
    "        pred = output.max(1, keepdim=True)[1]\n",
    "        correct += pred.eq(labels.view_as(pred)).sum().item()\n",
    "        total += imgs.shape[0]\n",
    "    return correct / total"
   ]
  },
  {
   "cell_type": "code",
   "execution_count": 5,
   "metadata": {
    "id": "l_tWTP7ZrPch"
   },
   "outputs": [],
   "source": [
    "from tqdm import tqdm\n",
    "import torch.nn as nn\n",
    "import torch.optim as optim\n",
    "import matplotlib.pyplot as plt\n",
    "\n",
    "def train(model, train_data, val_data, batch_size=64, learning_rate = 0.001, num_epochs=20):\n",
    "    from torch.utils.data import DataLoader\n",
    "\n",
    "    # optimize the data loaders\n",
    "    train_loader = DataLoader(train_data, batch_size=batch_size, shuffle=True, num_workers=4, pin_memory=True, prefetch_factor=2)\n",
    "    val_loader = DataLoader(val_data, batch_size=batch_size, shuffle=False, num_workers=4, pin_memory=True)\n",
    "\n",
    "    criterion = nn.CrossEntropyLoss()\n",
    "    optimizer = optim.Adam(model.parameters(), lr=learning_rate)\n",
    "\n",
    "    iters, losses, train_acc, val_acc = [], [], [], []\n",
    "\n",
    "    # training\n",
    "    n = 0 # the number of iterations\n",
    "    for epoch in range(num_epochs):\n",
    "        for imgs, labels in tqdm(train_loader, desc=\"Training\", leave=False):\n",
    "\n",
    "\n",
    "            #############################################\n",
    "            #To Enable GPU Usage\n",
    "            if use_cuda and torch.cuda.is_available():\n",
    "              imgs = imgs.cuda()\n",
    "              labels = labels.cuda()\n",
    "            #############################################\n",
    "\n",
    "\n",
    "            out = model(imgs)             # forward pass\n",
    "            loss = criterion(out, labels) # compute the total loss\n",
    "            loss.backward()               # backward pass (compute parameter updates)\n",
    "            optimizer.step()              # make the updates for each parameter\n",
    "            optimizer.zero_grad()         # a clean up step for PyTorch\n",
    "\n",
    "            # save the current training information\n",
    "            iters.append(n)\n",
    "            losses.append(float(loss)/batch_size)             # compute *average* loss\n",
    "            train_acc.append(get_accuracy(model, train_loader)) # compute training accuracy\n",
    "            val_acc.append(get_accuracy(model, val_loader))  # compute validation accuracy\n",
    "            n += 1\n",
    "\n",
    "        print(f\"Epoch {epoch+1}: Train acc: {train_acc[-1]:.4f} | Validation acc: {val_acc[-1]:.4f}\")\n",
    "        #model_path = get_model_name(model.name, batch_size, learning_rate, epoch)\n",
    "        #torch.save(model.state_dict(), model_path)\n",
    "\n",
    "    # plotting\n",
    "    plt.title(\"Training Curve\")\n",
    "    plt.plot(iters, losses, label=\"Train\")\n",
    "    plt.xlabel(\"Iterations\")\n",
    "    plt.ylabel(\"Loss\")\n",
    "    plt.show()\n",
    "\n",
    "    plt.title(\"Training Curve\")\n",
    "    plt.plot(iters, train_acc, label=\"Train\")\n",
    "    plt.plot(iters, val_acc, label=\"Validation\")\n",
    "    plt.xlabel(\"Iterations\")\n",
    "    plt.ylabel(\"Training Accuracy\")\n",
    "    plt.legend(loc='best')\n",
    "    plt.show()\n",
    "\n",
    "    print(\"Final Training Accuracy: {}\".format(train_acc[-1]))\n",
    "    print(\"Final Validation Accuracy: {}\".format(val_acc[-1]))"
   ]
  },
  {
   "cell_type": "code",
   "execution_count": 6,
   "metadata": {
    "colab": {
     "base_uri": "https://localhost:8080/"
    },
    "id": "gzorDQj9rmzx",
    "outputId": "a2b17eb3-0937-4edc-add6-512f7b1900bd"
   },
   "outputs": [
    {
     "name": "stderr",
     "output_type": "stream",
     "text": [
      "/usr/lib/python3/dist-packages/torchvision/models/_utils.py:208: UserWarning: The parameter 'pretrained' is deprecated since 0.13 and may be removed in the future, please use 'weights' instead.\n",
      "  warnings.warn(\n",
      "/usr/lib/python3/dist-packages/torchvision/models/_utils.py:223: UserWarning: Arguments other than a weight enum or `None` for 'weights' are deprecated since 0.13 and may be removed in the future. The current behavior is equivalent to passing `weights=VGG11_Weights.IMAGENET1K_V1`. You can also use `weights=VGG11_Weights.DEFAULT` to get the most up-to-date weights.\n",
      "  warnings.warn(msg)\n"
     ]
    }
   ],
   "source": [
    "import torchvision\n",
    "vggModel = torchvision.models.vgg11(pretrained=True)"
   ]
  },
  {
   "cell_type": "code",
   "execution_count": 7,
   "metadata": {
    "id": "-ED03reWhDx1"
   },
   "outputs": [],
   "source": [
    "vggModel.classifier[6] = nn.Linear(in_features=4096, out_features=4)"
   ]
  },
  {
   "cell_type": "code",
   "execution_count": 8,
   "metadata": {
    "id": "8kq5eODek0a0"
   },
   "outputs": [],
   "source": [
    "# freeze all feature extractor layers\n",
    "for param in vggModel.features.parameters():\n",
    "    param.requires_grad = False"
   ]
  },
  {
   "cell_type": "code",
   "execution_count": 11,
   "metadata": {
    "colab": {
     "base_uri": "https://localhost:8080/",
     "height": 1000
    },
    "id": "diKeiOKhrw8R",
    "outputId": "c19c0e2d-b640-4413-a657-0176f2c8127c"
   },
   "outputs": [
    {
     "name": "stdout",
     "output_type": "stream",
     "text": [
      "CUDA is available!  Training on GPU ...\n"
     ]
    },
    {
     "name": "stderr",
     "output_type": "stream",
     "text": [
      "                                                         "
     ]
    },
    {
     "name": "stdout",
     "output_type": "stream",
     "text": [
      "Epoch 1: Train acc: 0.7611 | Validation acc: 0.7283\n"
     ]
    },
    {
     "name": "stderr",
     "output_type": "stream",
     "text": [
      "                                                         "
     ]
    },
    {
     "name": "stdout",
     "output_type": "stream",
     "text": [
      "Epoch 2: Train acc: 0.8544 | Validation acc: 0.7983\n"
     ]
    },
    {
     "name": "stderr",
     "output_type": "stream",
     "text": [
      "                                                         "
     ]
    },
    {
     "name": "stdout",
     "output_type": "stream",
     "text": [
      "Epoch 3: Train acc: 0.8576 | Validation acc: 0.7822\n"
     ]
    },
    {
     "name": "stderr",
     "output_type": "stream",
     "text": [
      "                                                         "
     ]
    },
    {
     "name": "stdout",
     "output_type": "stream",
     "text": [
      "Epoch 4: Train acc: 0.9139 | Validation acc: 0.8128\n"
     ]
    },
    {
     "name": "stderr",
     "output_type": "stream",
     "text": [
      "                                                         "
     ]
    },
    {
     "name": "stdout",
     "output_type": "stream",
     "text": [
      "Epoch 5: Train acc: 0.9187 | Validation acc: 0.8233\n"
     ]
    },
    {
     "name": "stderr",
     "output_type": "stream",
     "text": []
    },
    {
     "data": {
      "image/png": "[encoded data removed]",
      "text/plain": [
       "<Figure size 432x288 with 1 Axes>"
      ]
     },
     "metadata": {
      "needs_background": "light"
     },
     "output_type": "display_data"
    },
    {
     "data": {
      "image/png": "[encoded data removed]",
      "text/plain": [
       "<Figure size 432x288 with 1 Axes>"
      ]
     },
     "metadata": {
      "needs_background": "light"
     },
     "output_type": "display_data"
    },
    {
     "name": "stdout",
     "output_type": "stream",
     "text": [
      "Final Training Accuracy: 0.9186904761904762\n",
      "Final Validation Accuracy: 0.8233333333333334\n"
     ]
    }
   ],
   "source": [
    "use_cuda = True\n",
    "\n",
    "if use_cuda and torch.cuda.is_available():\n",
    "  vggModel = vggModel.to('cuda:0')\n",
    "  device = 'cuda:0'\n",
    "  print('CUDA is available!  Training on GPU ...')\n",
    "else:\n",
    "  device = 'cpu'\n",
    "  print('CUDA is not available.  Training on CPU ...')\n",
    "\n",
    "train(vggModel, train_data, val_data, batch_size=256, learning_rate = 0.002, num_epochs=5)"
   ]
  },
  {
   "cell_type": "code",
   "execution_count": 12,
   "metadata": {
    "colab": {
     "base_uri": "https://localhost:8080/"
    },
    "id": "BsPOgY-MleFi",
    "outputId": "6029c061-2134-4db8-b276-deed189c47b8"
   },
   "outputs": [
    {
     "name": "stdout",
     "output_type": "stream",
     "text": [
      "Test accuracy: 0.8039\n"
     ]
    }
   ],
   "source": [
    "# compute the test accuracy for vgg16\n",
    "test_acc = get_accuracy(vggModel, test_loader)\n",
    "print(f\"Test accuracy: {test_acc:.4f}\")"
   ]
  },
  {
   "cell_type": "code",
   "execution_count": 13,
   "metadata": {
    "id": "6tMUskuzlt6k"
   },
   "outputs": [],
   "source": [
    "from sklearn.metrics import confusion_matrix, ConfusionMatrixDisplay\n",
    "\n",
    "# confusion matrix\n",
    "def plot_confusion_matrix(model, data_loader, class_names):\n",
    "    # set model into evaluation mode\n",
    "    model.eval()\n",
    "    all_preds = []\n",
    "    all_labels = []\n",
    "\n",
    "    with torch.no_grad():\n",
    "        for imgs, labels in data_loader:\n",
    "            if use_cuda and torch.cuda.is_available():\n",
    "                imgs = imgs.cuda()\n",
    "                labels = labels.cuda()\n",
    "\n",
    "            output = model(imgs)\n",
    "            preds = output.argmax(dim=1)\n",
    "\n",
    "            all_preds.extend(preds.cpu().numpy())\n",
    "            all_labels.extend(labels.cpu().numpy())\n",
    "\n",
    "    # compute the confusion matrix\n",
    "    cm = confusion_matrix(all_labels, all_preds)\n",
    "\n",
    "    # plot the confusion matrix\n",
    "    disp = ConfusionMatrixDisplay(confusion_matrix=cm, display_labels=class_names)\n",
    "    disp.plot(cmap='Blues', values_format='d')\n",
    "    plt.title(\"Confusion Matrix\")\n",
    "    plt.xlabel('Predicted')\n",
    "    plt.ylabel('True')\n",
    "    plt.title('Confusion Matrix')\n",
    "    plt.show()\n",
    "\n",
    "    return cm"
   ]
  },
  {
   "cell_type": "code",
   "execution_count": 14,
   "metadata": {
    "colab": {
     "base_uri": "https://localhost:8080/",
     "height": 541
    },
    "id": "H53g00LhlygS",
    "outputId": "1de95981-4424-468a-c8f2-4b4752820fb3"
   },
   "outputs": [
    {
     "data": {
      "image/png": "[encoded data removed]",
      "text/plain": [
       "<Figure size 432x288 with 2 Axes>"
      ]
     },
     "metadata": {
      "needs_background": "light"
     },
     "output_type": "display_data"
    },
    {
     "data": {
      "text/plain": [
       "array([[401,   9,  51,   5],\n",
       "       [ 18, 329,  11,  68],\n",
       "       [ 43,   5, 347,  63],\n",
       "       [  1,  11,   9, 429]])"
      ]
     },
     "execution_count": 14,
     "metadata": {},
     "output_type": "execute_result"
    }
   ],
   "source": [
    "class_names = ['CNV', 'DME', 'Drusen', 'Normal']\n",
    "plot_confusion_matrix(vggModel, test_loader, class_names)"
   ]
  },
  {
   "cell_type": "code",
   "execution_count": 15,
   "metadata": {
    "id": "SmkIK29Sl-cq"
   },
   "outputs": [],
   "source": [
    "from sklearn.metrics import roc_curve, auc\n",
    "from sklearn.preprocessing import label_binarize\n",
    "import numpy as np\n",
    "\n",
    "# plot roc curve\n",
    "def plot_roc_curve(model, data_loader, class_names):\n",
    "    model.eval()\n",
    "    all_labels = []\n",
    "    all_probs = []\n",
    "\n",
    "    with torch.no_grad():\n",
    "        for imgs, labels in data_loader:\n",
    "            if use_cuda and torch.cuda.is_available():\n",
    "                imgs = imgs.cuda()\n",
    "                labels = labels.cuda()\n",
    "\n",
    "            output = model(imgs)\n",
    "            probs = torch.softmax(output, dim=1)\n",
    "\n",
    "            all_probs.extend(probs.cpu().numpy())\n",
    "            all_labels.extend(labels.cpu().numpy())\n",
    "\n",
    "    all_probs = np.array(all_probs)\n",
    "    all_labels = np.array(all_labels)\n",
    "\n",
    "    # binarize the labels for multi-class ROC\n",
    "    y_true = label_binarize(all_labels, classes=np.arange(len(class_names)))\n",
    "    n_classes = y_true.shape[1]\n",
    "\n",
    "    # compute ROC and AUC for each class\n",
    "    fpr = dict()\n",
    "    tpr = dict()\n",
    "    roc_auc = dict()\n",
    "\n",
    "    for i in range(n_classes):\n",
    "        fpr[i], tpr[i], _ = roc_curve(y_true[:, i], all_probs[:, i])\n",
    "        roc_auc[i] = auc(fpr[i], tpr[i])\n",
    "\n",
    "    # plot the ROC curve\n",
    "    plt.figure()\n",
    "    for i in range(n_classes):\n",
    "        plt.plot(fpr[i], tpr[i], label=f\"{class_names[i]} (AUC = {roc_auc[i]:.2f})\")\n",
    "\n",
    "    plt.plot([0, 1], [0, 1], 'k--')  # random classfier\n",
    "    plt.xlabel('False Positive Rate')\n",
    "    plt.ylabel('True Positive Rate')\n",
    "    plt.title('Receiver Operating Characteristic (ROC) Curve')\n",
    "    plt.legend(loc='lower right')\n",
    "    plt.grid(True)\n",
    "    plt.show()\n",
    "\n",
    "    return roc_auc"
   ]
  },
  {
   "cell_type": "code",
   "execution_count": 16,
   "metadata": {
    "colab": {
     "base_uri": "https://localhost:8080/",
     "height": 472
    },
    "id": "oqIOq2eKmFoT",
    "outputId": "5affb853-8fc3-43ed-e6fb-dc04af4647ac"
   },
   "outputs": [
    {
     "data": {
      "image/png": "[encoded data removed]",
      "text/plain": [
       "<Figure size 432x288 with 1 Axes>"
      ]
     },
     "metadata": {
      "needs_background": "light"
     },
     "output_type": "display_data"
    }
   ],
   "source": [
    "roc_auc = plot_roc_curve(vggModel, test_loader, class_names)"
   ]
  },
  {
   "cell_type": "code",
   "execution_count": null,
   "metadata": {},
   "outputs": [],
   "source": []
  }
 ],
 "metadata": {
  "accelerator": "GPU",
  "colab": {
   "gpuType": "T4",
   "provenance": []
  },
  "kernelspec": {
   "display_name": "Python 3 (ipykernel)",
   "language": "python",
   "name": "python3"
  },
  "language_info": {
   "codemirror_mode": {
    "name": "ipython",
    "version": 3
   },
   "file_extension": ".py",
   "mimetype": "text/x-python",
   "name": "python",
   "nbconvert_exporter": "python",
   "pygments_lexer": "ipython3",
   "version": "3.10.12"
  }
 },
 "nbformat": 4,
 "nbformat_minor": 4
}
